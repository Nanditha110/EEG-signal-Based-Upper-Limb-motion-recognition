{
  "nbformat": 4,
  "nbformat_minor": 0,
  "metadata": {
    "colab": {
      "name": "EEG_Classification.ipynb",
      "provenance": []
    },
    "kernelspec": {
      "name": "python3",
      "display_name": "Python 3"
    },
    "language_info": {
      "name": "python"
    }
  },
  "cells": [
    {
      "cell_type": "code",
      "execution_count": null,
      "metadata": {
        "colab": {
          "base_uri": "https://localhost:8080/"
        },
        "id": "Sp4uIwKW-9St",
        "outputId": "45377878-7440-4dc7-bd92-2ebd925cca57"
      },
      "outputs": [
        {
          "output_type": "stream",
          "name": "stdout",
          "text": [
            "Mounted at /content/gdrive\n"
          ]
        }
      ],
      "source": [
        "from google.colab import drive\n",
        "drive.mount('/content/gdrive')"
      ]
    },
    {
      "cell_type": "code",
      "source": [
        "import numpy as np # linear algebra\n",
        "import pandas as pd"
      ],
      "metadata": {
        "id": "Z4T8XT9yABnw"
      },
      "execution_count": null,
      "outputs": []
    },
    {
      "cell_type": "code",
      "source": [
        "df=pd.read_csv('/content/gdrive/MyDrive/EEG_Signal_Based_UpperLimb_Motion_Recognition&Control/Features_Extracted.csv')\n",
        "df.head()"
      ],
      "metadata": {
        "colab": {
          "base_uri": "https://localhost:8080/",
          "height": 206
        },
        "id": "Hg42Z8tt_JrI",
        "outputId": "667e884d-0a40-444d-a7ec-e67628febf4f"
      },
      "execution_count": null,
      "outputs": [
        {
          "output_type": "execute_result",
          "data": {
            "text/html": [
              "\n",
              "  <div id=\"df-199ff36c-532c-44b8-899c-89b0f6f04c6e\">\n",
              "    <div class=\"colab-df-container\">\n",
              "      <div>\n",
              "<style scoped>\n",
              "    .dataframe tbody tr th:only-of-type {\n",
              "        vertical-align: middle;\n",
              "    }\n",
              "\n",
              "    .dataframe tbody tr th {\n",
              "        vertical-align: top;\n",
              "    }\n",
              "\n",
              "    .dataframe thead th {\n",
              "        text-align: right;\n",
              "    }\n",
              "</style>\n",
              "<table border=\"1\" class=\"dataframe\">\n",
              "  <thead>\n",
              "    <tr style=\"text-align: right;\">\n",
              "      <th></th>\n",
              "      <th>mean</th>\n",
              "      <th>median</th>\n",
              "      <th>variance</th>\n",
              "      <th>std_deviation</th>\n",
              "      <th>kurtosis</th>\n",
              "      <th>skewness</th>\n",
              "      <th>peak2peak</th>\n",
              "      <th>rms</th>\n",
              "      <th>spectral_entropy</th>\n",
              "      <th>approx_entropy</th>\n",
              "      <th>zero_crossings</th>\n",
              "      <th>label</th>\n",
              "    </tr>\n",
              "  </thead>\n",
              "  <tbody>\n",
              "    <tr>\n",
              "      <th>0</th>\n",
              "      <td>0.031170</td>\n",
              "      <td>-1.061383</td>\n",
              "      <td>850.189895</td>\n",
              "      <td>29.158016</td>\n",
              "      <td>3.747455</td>\n",
              "      <td>0.101851</td>\n",
              "      <td>257.964917</td>\n",
              "      <td>29.155174</td>\n",
              "      <td>0.513727</td>\n",
              "      <td>0.613496</td>\n",
              "      <td>332</td>\n",
              "      <td>Liftoff</td>\n",
              "    </tr>\n",
              "    <tr>\n",
              "      <th>1</th>\n",
              "      <td>-0.031463</td>\n",
              "      <td>0.386098</td>\n",
              "      <td>1097.625596</td>\n",
              "      <td>33.130433</td>\n",
              "      <td>7.069992</td>\n",
              "      <td>-0.141784</td>\n",
              "      <td>400.589642</td>\n",
              "      <td>33.127200</td>\n",
              "      <td>0.512483</td>\n",
              "      <td>0.571197</td>\n",
              "      <td>312</td>\n",
              "      <td>Liftoff</td>\n",
              "    </tr>\n",
              "    <tr>\n",
              "      <th>2</th>\n",
              "      <td>0.004578</td>\n",
              "      <td>0.378277</td>\n",
              "      <td>454.930412</td>\n",
              "      <td>21.329098</td>\n",
              "      <td>5.836629</td>\n",
              "      <td>0.124112</td>\n",
              "      <td>251.060393</td>\n",
              "      <td>21.327007</td>\n",
              "      <td>0.496757</td>\n",
              "      <td>0.587259</td>\n",
              "      <td>332</td>\n",
              "      <td>Liftoff</td>\n",
              "    </tr>\n",
              "    <tr>\n",
              "      <th>3</th>\n",
              "      <td>0.040959</td>\n",
              "      <td>-0.375902</td>\n",
              "      <td>1812.435663</td>\n",
              "      <td>42.572710</td>\n",
              "      <td>3.294124</td>\n",
              "      <td>-0.025043</td>\n",
              "      <td>315.604006</td>\n",
              "      <td>42.568556</td>\n",
              "      <td>0.497035</td>\n",
              "      <td>0.607526</td>\n",
              "      <td>309</td>\n",
              "      <td>Liftoff</td>\n",
              "    </tr>\n",
              "    <tr>\n",
              "      <th>4</th>\n",
              "      <td>-0.058856</td>\n",
              "      <td>0.258249</td>\n",
              "      <td>3274.781706</td>\n",
              "      <td>57.225708</td>\n",
              "      <td>8.673150</td>\n",
              "      <td>0.376142</td>\n",
              "      <td>793.934905</td>\n",
              "      <td>57.220128</td>\n",
              "      <td>0.482205</td>\n",
              "      <td>0.565901</td>\n",
              "      <td>281</td>\n",
              "      <td>Liftoff</td>\n",
              "    </tr>\n",
              "  </tbody>\n",
              "</table>\n",
              "</div>\n",
              "      <button class=\"colab-df-convert\" onclick=\"convertToInteractive('df-199ff36c-532c-44b8-899c-89b0f6f04c6e')\"\n",
              "              title=\"Convert this dataframe to an interactive table.\"\n",
              "              style=\"display:none;\">\n",
              "        \n",
              "  <svg xmlns=\"http://www.w3.org/2000/svg\" height=\"24px\"viewBox=\"0 0 24 24\"\n",
              "       width=\"24px\">\n",
              "    <path d=\"M0 0h24v24H0V0z\" fill=\"none\"/>\n",
              "    <path d=\"M18.56 5.44l.94 2.06.94-2.06 2.06-.94-2.06-.94-.94-2.06-.94 2.06-2.06.94zm-11 1L8.5 8.5l.94-2.06 2.06-.94-2.06-.94L8.5 2.5l-.94 2.06-2.06.94zm10 10l.94 2.06.94-2.06 2.06-.94-2.06-.94-.94-2.06-.94 2.06-2.06.94z\"/><path d=\"M17.41 7.96l-1.37-1.37c-.4-.4-.92-.59-1.43-.59-.52 0-1.04.2-1.43.59L10.3 9.45l-7.72 7.72c-.78.78-.78 2.05 0 2.83L4 21.41c.39.39.9.59 1.41.59.51 0 1.02-.2 1.41-.59l7.78-7.78 2.81-2.81c.8-.78.8-2.07 0-2.86zM5.41 20L4 18.59l7.72-7.72 1.47 1.35L5.41 20z\"/>\n",
              "  </svg>\n",
              "      </button>\n",
              "      \n",
              "  <style>\n",
              "    .colab-df-container {\n",
              "      display:flex;\n",
              "      flex-wrap:wrap;\n",
              "      gap: 12px;\n",
              "    }\n",
              "\n",
              "    .colab-df-convert {\n",
              "      background-color: #E8F0FE;\n",
              "      border: none;\n",
              "      border-radius: 50%;\n",
              "      cursor: pointer;\n",
              "      display: none;\n",
              "      fill: #1967D2;\n",
              "      height: 32px;\n",
              "      padding: 0 0 0 0;\n",
              "      width: 32px;\n",
              "    }\n",
              "\n",
              "    .colab-df-convert:hover {\n",
              "      background-color: #E2EBFA;\n",
              "      box-shadow: 0px 1px 2px rgba(60, 64, 67, 0.3), 0px 1px 3px 1px rgba(60, 64, 67, 0.15);\n",
              "      fill: #174EA6;\n",
              "    }\n",
              "\n",
              "    [theme=dark] .colab-df-convert {\n",
              "      background-color: #3B4455;\n",
              "      fill: #D2E3FC;\n",
              "    }\n",
              "\n",
              "    [theme=dark] .colab-df-convert:hover {\n",
              "      background-color: #434B5C;\n",
              "      box-shadow: 0px 1px 3px 1px rgba(0, 0, 0, 0.15);\n",
              "      filter: drop-shadow(0px 1px 2px rgba(0, 0, 0, 0.3));\n",
              "      fill: #FFFFFF;\n",
              "    }\n",
              "  </style>\n",
              "\n",
              "      <script>\n",
              "        const buttonEl =\n",
              "          document.querySelector('#df-199ff36c-532c-44b8-899c-89b0f6f04c6e button.colab-df-convert');\n",
              "        buttonEl.style.display =\n",
              "          google.colab.kernel.accessAllowed ? 'block' : 'none';\n",
              "\n",
              "        async function convertToInteractive(key) {\n",
              "          const element = document.querySelector('#df-199ff36c-532c-44b8-899c-89b0f6f04c6e');\n",
              "          const dataTable =\n",
              "            await google.colab.kernel.invokeFunction('convertToInteractive',\n",
              "                                                     [key], {});\n",
              "          if (!dataTable) return;\n",
              "\n",
              "          const docLinkHtml = 'Like what you see? Visit the ' +\n",
              "            '<a target=\"_blank\" href=https://colab.research.google.com/notebooks/data_table.ipynb>data table notebook</a>'\n",
              "            + ' to learn more about interactive tables.';\n",
              "          element.innerHTML = '';\n",
              "          dataTable['output_type'] = 'display_data';\n",
              "          await google.colab.output.renderOutput(dataTable, element);\n",
              "          const docLink = document.createElement('div');\n",
              "          docLink.innerHTML = docLinkHtml;\n",
              "          element.appendChild(docLink);\n",
              "        }\n",
              "      </script>\n",
              "    </div>\n",
              "  </div>\n",
              "  "
            ],
            "text/plain": [
              "       mean    median     variance  ...  approx_entropy  zero_crossings    label\n",
              "0  0.031170 -1.061383   850.189895  ...        0.613496             332  Liftoff\n",
              "1 -0.031463  0.386098  1097.625596  ...        0.571197             312  Liftoff\n",
              "2  0.004578  0.378277   454.930412  ...        0.587259             332  Liftoff\n",
              "3  0.040959 -0.375902  1812.435663  ...        0.607526             309  Liftoff\n",
              "4 -0.058856  0.258249  3274.781706  ...        0.565901             281  Liftoff\n",
              "\n",
              "[5 rows x 12 columns]"
            ]
          },
          "metadata": {},
          "execution_count": 3
        }
      ]
    },
    {
      "cell_type": "code",
      "source": [
        "df.info()"
      ],
      "metadata": {
        "colab": {
          "base_uri": "https://localhost:8080/"
        },
        "id": "oIr4zo7B_ear",
        "outputId": "0cf7b2b3-0aa8-402b-a159-48e4cc819f64"
      },
      "execution_count": null,
      "outputs": [
        {
          "output_type": "stream",
          "name": "stdout",
          "text": [
            "<class 'pandas.core.frame.DataFrame'>\n",
            "RangeIndex: 36 entries, 0 to 35\n",
            "Data columns (total 12 columns):\n",
            " #   Column            Non-Null Count  Dtype  \n",
            "---  ------            --------------  -----  \n",
            " 0   mean              36 non-null     float64\n",
            " 1   median            36 non-null     float64\n",
            " 2   variance          36 non-null     float64\n",
            " 3   std_deviation     36 non-null     float64\n",
            " 4   kurtosis          36 non-null     float64\n",
            " 5   skewness          36 non-null     float64\n",
            " 6   peak2peak         36 non-null     float64\n",
            " 7   rms               36 non-null     float64\n",
            " 8   spectral_entropy  36 non-null     float64\n",
            " 9   approx_entropy    36 non-null     float64\n",
            " 10  zero_crossings    36 non-null     int64  \n",
            " 11  label             36 non-null     object \n",
            "dtypes: float64(10), int64(1), object(1)\n",
            "memory usage: 3.5+ KB\n"
          ]
        }
      ]
    },
    {
      "cell_type": "code",
      "source": [
        "import seaborn as sns\n",
        "sns.countplot(x='label', data=df)"
      ],
      "metadata": {
        "colab": {
          "base_uri": "https://localhost:8080/",
          "height": 296
        },
        "id": "UShs9egu_eYR",
        "outputId": "8908425c-7c75-4d0f-ed20-af8e6d0ff4a4"
      },
      "execution_count": null,
      "outputs": [
        {
          "output_type": "execute_result",
          "data": {
            "text/plain": [
              "<matplotlib.axes._subplots.AxesSubplot at 0x7f3971a3e490>"
            ]
          },
          "metadata": {},
          "execution_count": 5
        },
        {
          "output_type": "display_data",
          "data": {
            "image/png": "[encoded data removed]",
            "text/plain": [
              "<Figure size 432x288 with 1 Axes>"
            ]
          },
          "metadata": {
            "needs_background": "light"
          }
        }
      ]
    },
    {
      "cell_type": "code",
      "source": [
        "df.isnull().sum()\n",
        "#no missing values"
      ],
      "metadata": {
        "colab": {
          "base_uri": "https://localhost:8080/"
        },
        "id": "jt0iK-SD_eV5",
        "outputId": "dafe06b9-bfb3-41ed-ec7c-a48a376b30aa"
      },
      "execution_count": null,
      "outputs": [
        {
          "output_type": "execute_result",
          "data": {
            "text/plain": [
              "mean                0\n",
              "median              0\n",
              "variance            0\n",
              "std_deviation       0\n",
              "kurtosis            0\n",
              "skewness            0\n",
              "peak2peak           0\n",
              "rms                 0\n",
              "spectral_entropy    0\n",
              "approx_entropy      0\n",
              "zero_crossings      0\n",
              "label               0\n",
              "dtype: int64"
            ]
          },
          "metadata": {},
          "execution_count": 6
        }
      ]
    },
    {
      "cell_type": "code",
      "source": [
        "encode = ({'Liftoff': 0, 'BothStartLoadPhase': 1, 'HandStart': 2,'Replace': 3, 'FirstDigitTouch': 4, 'BothReleased': 5} )\n",
        "#new dataset with replaced values\n",
        "df_encoded = df.replace(encode)\n",
        "\n",
        "print(df_encoded.head())\n",
        "print(df_encoded['label'].value_counts())"
      ],
      "metadata": {
        "colab": {
          "base_uri": "https://localhost:8080/"
        },
        "id": "RS37Qq68_eT5",
        "outputId": "0400fdf3-3426-4ef4-b044-f7ab307704f3"
      },
      "execution_count": null,
      "outputs": [
        {
          "output_type": "stream",
          "name": "stdout",
          "text": [
            "       mean    median     variance  ...  approx_entropy  zero_crossings  label\n",
            "0  0.031170 -1.061383   850.189895  ...        0.613496             332      0\n",
            "1 -0.031463  0.386098  1097.625596  ...        0.571197             312      0\n",
            "2  0.004578  0.378277   454.930412  ...        0.587259             332      0\n",
            "3  0.040959 -0.375902  1812.435663  ...        0.607526             309      0\n",
            "4 -0.058856  0.258249  3274.781706  ...        0.565901             281      0\n",
            "\n",
            "[5 rows x 12 columns]\n",
            "5    6\n",
            "4    6\n",
            "3    6\n",
            "2    6\n",
            "1    6\n",
            "0    6\n",
            "Name: label, dtype: int64\n"
          ]
        }
      ]
    },
    {
      "cell_type": "code",
      "source": [
        "df_encoded['label'].unique()\n"
      ],
      "metadata": {
        "colab": {
          "base_uri": "https://localhost:8080/"
        },
        "id": "43Re9AY1_eRE",
        "outputId": "0dbfbce0-dab9-4261-c75e-452fc1b18af9"
      },
      "execution_count": null,
      "outputs": [
        {
          "output_type": "execute_result",
          "data": {
            "text/plain": [
              "array([0, 1, 2, 4, 3, 5])"
            ]
          },
          "metadata": {},
          "execution_count": 8
        }
      ]
    },
    {
      "cell_type": "code",
      "source": [
        "df_encoded.head()"
      ],
      "metadata": {
        "colab": {
          "base_uri": "https://localhost:8080/",
          "height": 206
        },
        "id": "3h8p5F_5_ePC",
        "outputId": "00ab0f81-3ff9-401a-e2e0-c580250b2db5"
      },
      "execution_count": null,
      "outputs": [
        {
          "output_type": "execute_result",
          "data": {
            "text/html": [
              "\n",
              "  <div id=\"df-26520d79-ee26-4aed-a579-f964cc4d3537\">\n",
              "    <div class=\"colab-df-container\">\n",
              "      <div>\n",
              "<style scoped>\n",
              "    .dataframe tbody tr th:only-of-type {\n",
              "        vertical-align: middle;\n",
              "    }\n",
              "\n",
              "    .dataframe tbody tr th {\n",
              "        vertical-align: top;\n",
              "    }\n",
              "\n",
              "    .dataframe thead th {\n",
              "        text-align: right;\n",
              "    }\n",
              "</style>\n",
              "<table border=\"1\" class=\"dataframe\">\n",
              "  <thead>\n",
              "    <tr style=\"text-align: right;\">\n",
              "      <th></th>\n",
              "      <th>mean</th>\n",
              "      <th>median</th>\n",
              "      <th>variance</th>\n",
              "      <th>std_deviation</th>\n",
              "      <th>kurtosis</th>\n",
              "      <th>skewness</th>\n",
              "      <th>peak2peak</th>\n",
              "      <th>rms</th>\n",
              "      <th>spectral_entropy</th>\n",
              "      <th>approx_entropy</th>\n",
              "      <th>zero_crossings</th>\n",
              "      <th>label</th>\n",
              "    </tr>\n",
              "  </thead>\n",
              "  <tbody>\n",
              "    <tr>\n",
              "      <th>0</th>\n",
              "      <td>0.031170</td>\n",
              "      <td>-1.061383</td>\n",
              "      <td>850.189895</td>\n",
              "      <td>29.158016</td>\n",
              "      <td>3.747455</td>\n",
              "      <td>0.101851</td>\n",
              "      <td>257.964917</td>\n",
              "      <td>29.155174</td>\n",
              "      <td>0.513727</td>\n",
              "      <td>0.613496</td>\n",
              "      <td>332</td>\n",
              "      <td>0</td>\n",
              "    </tr>\n",
              "    <tr>\n",
              "      <th>1</th>\n",
              "      <td>-0.031463</td>\n",
              "      <td>0.386098</td>\n",
              "      <td>1097.625596</td>\n",
              "      <td>33.130433</td>\n",
              "      <td>7.069992</td>\n",
              "      <td>-0.141784</td>\n",
              "      <td>400.589642</td>\n",
              "      <td>33.127200</td>\n",
              "      <td>0.512483</td>\n",
              "      <td>0.571197</td>\n",
              "      <td>312</td>\n",
              "      <td>0</td>\n",
              "    </tr>\n",
              "    <tr>\n",
              "      <th>2</th>\n",
              "      <td>0.004578</td>\n",
              "      <td>0.378277</td>\n",
              "      <td>454.930412</td>\n",
              "      <td>21.329098</td>\n",
              "      <td>5.836629</td>\n",
              "      <td>0.124112</td>\n",
              "      <td>251.060393</td>\n",
              "      <td>21.327007</td>\n",
              "      <td>0.496757</td>\n",
              "      <td>0.587259</td>\n",
              "      <td>332</td>\n",
              "      <td>0</td>\n",
              "    </tr>\n",
              "    <tr>\n",
              "      <th>3</th>\n",
              "      <td>0.040959</td>\n",
              "      <td>-0.375902</td>\n",
              "      <td>1812.435663</td>\n",
              "      <td>42.572710</td>\n",
              "      <td>3.294124</td>\n",
              "      <td>-0.025043</td>\n",
              "      <td>315.604006</td>\n",
              "      <td>42.568556</td>\n",
              "      <td>0.497035</td>\n",
              "      <td>0.607526</td>\n",
              "      <td>309</td>\n",
              "      <td>0</td>\n",
              "    </tr>\n",
              "    <tr>\n",
              "      <th>4</th>\n",
              "      <td>-0.058856</td>\n",
              "      <td>0.258249</td>\n",
              "      <td>3274.781706</td>\n",
              "      <td>57.225708</td>\n",
              "      <td>8.673150</td>\n",
              "      <td>0.376142</td>\n",
              "      <td>793.934905</td>\n",
              "      <td>57.220128</td>\n",
              "      <td>0.482205</td>\n",
              "      <td>0.565901</td>\n",
              "      <td>281</td>\n",
              "      <td>0</td>\n",
              "    </tr>\n",
              "  </tbody>\n",
              "</table>\n",
              "</div>\n",
              "      <button class=\"colab-df-convert\" onclick=\"convertToInteractive('df-26520d79-ee26-4aed-a579-f964cc4d3537')\"\n",
              "              title=\"Convert this dataframe to an interactive table.\"\n",
              "              style=\"display:none;\">\n",
              "        \n",
              "  <svg xmlns=\"http://www.w3.org/2000/svg\" height=\"24px\"viewBox=\"0 0 24 24\"\n",
              "       width=\"24px\">\n",
              "    <path d=\"M0 0h24v24H0V0z\" fill=\"none\"/>\n",
              "    <path d=\"M18.56 5.44l.94 2.06.94-2.06 2.06-.94-2.06-.94-.94-2.06-.94 2.06-2.06.94zm-11 1L8.5 8.5l.94-2.06 2.06-.94-2.06-.94L8.5 2.5l-.94 2.06-2.06.94zm10 10l.94 2.06.94-2.06 2.06-.94-2.06-.94-.94-2.06-.94 2.06-2.06.94z\"/><path d=\"M17.41 7.96l-1.37-1.37c-.4-.4-.92-.59-1.43-.59-.52 0-1.04.2-1.43.59L10.3 9.45l-7.72 7.72c-.78.78-.78 2.05 0 2.83L4 21.41c.39.39.9.59 1.41.59.51 0 1.02-.2 1.41-.59l7.78-7.78 2.81-2.81c.8-.78.8-2.07 0-2.86zM5.41 20L4 18.59l7.72-7.72 1.47 1.35L5.41 20z\"/>\n",
              "  </svg>\n",
              "      </button>\n",
              "      \n",
              "  <style>\n",
              "    .colab-df-container {\n",
              "      display:flex;\n",
              "      flex-wrap:wrap;\n",
              "      gap: 12px;\n",
              "    }\n",
              "\n",
              "    .colab-df-convert {\n",
              "      background-color: #E8F0FE;\n",
              "      border: none;\n",
              "      border-radius: 50%;\n",
              "      cursor: pointer;\n",
              "      display: none;\n",
              "      fill: #1967D2;\n",
              "      height: 32px;\n",
              "      padding: 0 0 0 0;\n",
              "      width: 32px;\n",
              "    }\n",
              "\n",
              "    .colab-df-convert:hover {\n",
              "      background-color: #E2EBFA;\n",
              "      box-shadow: 0px 1px 2px rgba(60, 64, 67, 0.3), 0px 1px 3px 1px rgba(60, 64, 67, 0.15);\n",
              "      fill: #174EA6;\n",
              "    }\n",
              "\n",
              "    [theme=dark] .colab-df-convert {\n",
              "      background-color: #3B4455;\n",
              "      fill: #D2E3FC;\n",
              "    }\n",
              "\n",
              "    [theme=dark] .colab-df-convert:hover {\n",
              "      background-color: #434B5C;\n",
              "      box-shadow: 0px 1px 3px 1px rgba(0, 0, 0, 0.15);\n",
              "      filter: drop-shadow(0px 1px 2px rgba(0, 0, 0, 0.3));\n",
              "      fill: #FFFFFF;\n",
              "    }\n",
              "  </style>\n",
              "\n",
              "      <script>\n",
              "        const buttonEl =\n",
              "          document.querySelector('#df-26520d79-ee26-4aed-a579-f964cc4d3537 button.colab-df-convert');\n",
              "        buttonEl.style.display =\n",
              "          google.colab.kernel.accessAllowed ? 'block' : 'none';\n",
              "\n",
              "        async function convertToInteractive(key) {\n",
              "          const element = document.querySelector('#df-26520d79-ee26-4aed-a579-f964cc4d3537');\n",
              "          const dataTable =\n",
              "            await google.colab.kernel.invokeFunction('convertToInteractive',\n",
              "                                                     [key], {});\n",
              "          if (!dataTable) return;\n",
              "\n",
              "          const docLinkHtml = 'Like what you see? Visit the ' +\n",
              "            '<a target=\"_blank\" href=https://colab.research.google.com/notebooks/data_table.ipynb>data table notebook</a>'\n",
              "            + ' to learn more about interactive tables.';\n",
              "          element.innerHTML = '';\n",
              "          dataTable['output_type'] = 'display_data';\n",
              "          await google.colab.output.renderOutput(dataTable, element);\n",
              "          const docLink = document.createElement('div');\n",
              "          docLink.innerHTML = docLinkHtml;\n",
              "          element.appendChild(docLink);\n",
              "        }\n",
              "      </script>\n",
              "    </div>\n",
              "  </div>\n",
              "  "
            ],
            "text/plain": [
              "       mean    median     variance  ...  approx_entropy  zero_crossings  label\n",
              "0  0.031170 -1.061383   850.189895  ...        0.613496             332      0\n",
              "1 -0.031463  0.386098  1097.625596  ...        0.571197             312      0\n",
              "2  0.004578  0.378277   454.930412  ...        0.587259             332      0\n",
              "3  0.040959 -0.375902  1812.435663  ...        0.607526             309      0\n",
              "4 -0.058856  0.258249  3274.781706  ...        0.565901             281      0\n",
              "\n",
              "[5 rows x 12 columns]"
            ]
          },
          "metadata": {},
          "execution_count": 9
        }
      ]
    },
    {
      "cell_type": "code",
      "source": [
        "x=df_encoded.drop([\"label\"]  ,axis=1)\n",
        "x.shape"
      ],
      "metadata": {
        "colab": {
          "base_uri": "https://localhost:8080/"
        },
        "id": "4W-ScMfu_eM4",
        "outputId": "7bd6e941-0209-44dd-dd80-0b09a47336ca"
      },
      "execution_count": null,
      "outputs": [
        {
          "output_type": "execute_result",
          "data": {
            "text/plain": [
              "(36, 11)"
            ]
          },
          "metadata": {},
          "execution_count": 10
        }
      ]
    },
    {
      "cell_type": "code",
      "source": [
        "y = df_encoded.loc[:,'label'].values\n",
        "y.shape"
      ],
      "metadata": {
        "colab": {
          "base_uri": "https://localhost:8080/"
        },
        "id": "DbqCvjJ0_eKk",
        "outputId": "3e5bd13e-781f-4823-8e9c-6c8796c03cc0"
      },
      "execution_count": null,
      "outputs": [
        {
          "output_type": "execute_result",
          "data": {
            "text/plain": [
              "(36,)"
            ]
          },
          "metadata": {},
          "execution_count": 11
        }
      ]
    },
    {
      "cell_type": "code",
      "source": [
        "from sklearn.preprocessing import StandardScaler\n",
        "scaler = StandardScaler()\n",
        "scaler.fit(x)\n",
        "x = scaler.transform(x)\n",
        "#from keras.utils import to_categorical\n",
        "from tensorflow.keras.utils import to_categorical\n",
        "y = to_categorical(y)\n",
        "y"
      ],
      "metadata": {
        "colab": {
          "base_uri": "https://localhost:8080/"
        },
        "id": "DY5AKnrm_eH-",
        "outputId": "f611db40-a8e3-4a19-96b6-2ac52de86c43"
      },
      "execution_count": null,
      "outputs": [
        {
          "output_type": "execute_result",
          "data": {
            "text/plain": [
              "array([[1., 0., 0., 0., 0., 0.],\n",
              "       [1., 0., 0., 0., 0., 0.],\n",
              "       [1., 0., 0., 0., 0., 0.],\n",
              "       [1., 0., 0., 0., 0., 0.],\n",
              "       [1., 0., 0., 0., 0., 0.],\n",
              "       [1., 0., 0., 0., 0., 0.],\n",
              "       [0., 1., 0., 0., 0., 0.],\n",
              "       [0., 1., 0., 0., 0., 0.],\n",
              "       [0., 1., 0., 0., 0., 0.],\n",
              "       [0., 1., 0., 0., 0., 0.],\n",
              "       [0., 1., 0., 0., 0., 0.],\n",
              "       [0., 1., 0., 0., 0., 0.],\n",
              "       [0., 0., 1., 0., 0., 0.],\n",
              "       [0., 0., 1., 0., 0., 0.],\n",
              "       [0., 0., 1., 0., 0., 0.],\n",
              "       [0., 0., 1., 0., 0., 0.],\n",
              "       [0., 0., 1., 0., 0., 0.],\n",
              "       [0., 0., 1., 0., 0., 0.],\n",
              "       [0., 0., 0., 0., 1., 0.],\n",
              "       [0., 0., 0., 0., 1., 0.],\n",
              "       [0., 0., 0., 0., 1., 0.],\n",
              "       [0., 0., 0., 0., 1., 0.],\n",
              "       [0., 0., 0., 0., 1., 0.],\n",
              "       [0., 0., 0., 0., 1., 0.],\n",
              "       [0., 0., 0., 1., 0., 0.],\n",
              "       [0., 0., 0., 1., 0., 0.],\n",
              "       [0., 0., 0., 1., 0., 0.],\n",
              "       [0., 0., 0., 1., 0., 0.],\n",
              "       [0., 0., 0., 1., 0., 0.],\n",
              "       [0., 0., 0., 1., 0., 0.],\n",
              "       [0., 0., 0., 0., 0., 1.],\n",
              "       [0., 0., 0., 0., 0., 1.],\n",
              "       [0., 0., 0., 0., 0., 1.],\n",
              "       [0., 0., 0., 0., 0., 1.],\n",
              "       [0., 0., 0., 0., 0., 1.],\n",
              "       [0., 0., 0., 0., 0., 1.]], dtype=float32)"
            ]
          },
          "metadata": {},
          "execution_count": 12
        }
      ]
    },
    {
      "cell_type": "code",
      "source": [
        "from sklearn.model_selection import train_test_split\n",
        "x_train, x_test, y_train, y_test = train_test_split(x, y, test_size = 0.2, random_state = 4)"
      ],
      "metadata": {
        "id": "PajtzwPK_eFi"
      },
      "execution_count": null,
      "outputs": []
    },
    {
      "cell_type": "code",
      "source": [
        "x_train = np.reshape(x_train, (x_train.shape[0],1,x.shape[1]))\n",
        "x_test = np.reshape(x_test, (x_test.shape[0],1,x.shape[1]))"
      ],
      "metadata": {
        "id": "qzlZgwztCD5z"
      },
      "execution_count": null,
      "outputs": []
    },
    {
      "cell_type": "code",
      "source": [
        "import tensorflow as tf\n",
        "from tensorflow.keras import Sequential\n",
        "\n",
        "from tensorflow.keras.layers import Dense, Dropout\n",
        "from tensorflow.keras.layers import Embedding\n",
        "from tensorflow.keras.layers import LSTM\n",
        "tf.keras.backend.clear_session()\n",
        "\n",
        "model = Sequential()\n",
        "model.add(LSTM(64, input_shape=(1,11),activation=\"relu\",return_sequences=True))\n",
        "model.add(Dropout(0.2))\n",
        "model.add(LSTM(32,activation=\"sigmoid\"))\n",
        "model.add(Dropout(0.2))\n",
        "#model.add(LSTM(100,return_sequences=True))\n",
        "#model.add(Dropout(0.2))\n",
        "#model.add(LSTM(50))\n",
        "#model.add(Dropout(0.2))\n",
        "model.add(Dense(6, activation='sigmoid'))\n",
        "from tensorflow.keras.optimizers import SGD\n",
        "model.compile(loss = 'categorical_crossentropy', optimizer = \"adam\", metrics = ['accuracy'])\n",
        "model.summary()"
      ],
      "metadata": {
        "colab": {
          "base_uri": "https://localhost:8080/"
        },
        "id": "fLwt1dcoCJv2",
        "outputId": "48b14e0c-88cf-490a-b65b-23d3eb8ba457"
      },
      "execution_count": null,
      "outputs": [
        {
          "output_type": "stream",
          "name": "stdout",
          "text": [
            "Model: \"sequential\"\n",
            "_________________________________________________________________\n",
            " Layer (type)                Output Shape              Param #   \n",
            "=================================================================\n",
            " lstm (LSTM)                 (None, 1, 64)             19456     \n",
            "                                                                 \n",
            " dropout (Dropout)           (None, 1, 64)             0         \n",
            "                                                                 \n",
            " lstm_1 (LSTM)               (None, 32)                12416     \n",
            "                                                                 \n",
            " dropout_1 (Dropout)         (None, 32)                0         \n",
            "                                                                 \n",
            " dense (Dense)               (None, 6)                 198       \n",
            "                                                                 \n",
            "=================================================================\n",
            "Total params: 32,070\n",
            "Trainable params: 32,070\n",
            "Non-trainable params: 0\n",
            "_________________________________________________________________\n"
          ]
        }
      ]
    },
    {
      "cell_type": "code",
      "source": [
        "history = model.fit(x_train, y_train, epochs = 100, validation_data= (x_test, y_test))\n",
        "#score, acc = model.evaluate(x_test, y_test)"
      ],
      "metadata": {
        "colab": {
          "base_uri": "https://localhost:8080/"
        },
        "id": "Sk9YOuTrCKU9",
        "outputId": "97acf26b-68ec-4baf-d1c5-2b7558df70c5"
      },
      "execution_count": null,
      "outputs": [
        {
          "output_type": "stream",
          "name": "stdout",
          "text": [
            "Epoch 1/100\n",
            "1/1 [==============================] - 0s 73ms/step - loss: 0.4566 - accuracy: 0.9643 - val_loss: 2.1920 - val_accuracy: 0.1250\n",
            "Epoch 2/100\n",
            "1/1 [==============================] - 0s 36ms/step - loss: 0.5318 - accuracy: 0.8571 - val_loss: 2.1935 - val_accuracy: 0.1250\n",
            "Epoch 3/100\n",
            "1/1 [==============================] - 0s 35ms/step - loss: 0.4128 - accuracy: 0.8929 - val_loss: 2.1952 - val_accuracy: 0.1250\n",
            "Epoch 4/100\n",
            "1/1 [==============================] - 0s 30ms/step - loss: 0.5955 - accuracy: 0.8214 - val_loss: 2.1968 - val_accuracy: 0.1250\n",
            "Epoch 5/100\n",
            "1/1 [==============================] - 0s 33ms/step - loss: 0.4356 - accuracy: 0.8571 - val_loss: 2.1983 - val_accuracy: 0.1250\n",
            "Epoch 6/100\n",
            "1/1 [==============================] - 0s 29ms/step - loss: 0.4438 - accuracy: 0.9286 - val_loss: 2.2008 - val_accuracy: 0.1250\n",
            "Epoch 7/100\n",
            "1/1 [==============================] - 0s 35ms/step - loss: 0.5251 - accuracy: 0.8929 - val_loss: 2.2022 - val_accuracy: 0.1250\n",
            "Epoch 8/100\n",
            "1/1 [==============================] - 0s 35ms/step - loss: 0.5088 - accuracy: 0.8929 - val_loss: 2.2040 - val_accuracy: 0.1250\n",
            "Epoch 9/100\n",
            "1/1 [==============================] - 0s 38ms/step - loss: 0.3765 - accuracy: 0.9286 - val_loss: 2.2057 - val_accuracy: 0.1250\n",
            "Epoch 10/100\n",
            "1/1 [==============================] - 0s 43ms/step - loss: 0.4090 - accuracy: 0.8929 - val_loss: 2.2070 - val_accuracy: 0.1250\n",
            "Epoch 11/100\n",
            "1/1 [==============================] - 0s 42ms/step - loss: 0.4961 - accuracy: 0.8214 - val_loss: 2.2085 - val_accuracy: 0.1250\n",
            "Epoch 12/100\n",
            "1/1 [==============================] - 0s 42ms/step - loss: 0.4824 - accuracy: 0.8214 - val_loss: 2.2105 - val_accuracy: 0.1250\n",
            "Epoch 13/100\n",
            "1/1 [==============================] - 0s 40ms/step - loss: 0.4699 - accuracy: 0.8571 - val_loss: 2.2134 - val_accuracy: 0.1250\n",
            "Epoch 14/100\n",
            "1/1 [==============================] - 0s 36ms/step - loss: 0.5144 - accuracy: 0.8571 - val_loss: 2.2159 - val_accuracy: 0.1250\n",
            "Epoch 15/100\n",
            "1/1 [==============================] - 0s 42ms/step - loss: 0.5067 - accuracy: 0.9286 - val_loss: 2.2189 - val_accuracy: 0.1250\n",
            "Epoch 16/100\n",
            "1/1 [==============================] - 0s 50ms/step - loss: 0.4543 - accuracy: 0.9286 - val_loss: 2.2225 - val_accuracy: 0.1250\n",
            "Epoch 17/100\n",
            "1/1 [==============================] - 0s 38ms/step - loss: 0.4976 - accuracy: 0.8571 - val_loss: 2.2268 - val_accuracy: 0.1250\n",
            "Epoch 18/100\n",
            "1/1 [==============================] - 0s 49ms/step - loss: 0.4738 - accuracy: 0.8571 - val_loss: 2.2311 - val_accuracy: 0.2500\n",
            "Epoch 19/100\n",
            "1/1 [==============================] - 0s 40ms/step - loss: 0.4663 - accuracy: 0.8929 - val_loss: 2.2355 - val_accuracy: 0.2500\n",
            "Epoch 20/100\n",
            "1/1 [==============================] - 0s 45ms/step - loss: 0.4477 - accuracy: 0.8571 - val_loss: 2.2403 - val_accuracy: 0.2500\n",
            "Epoch 21/100\n",
            "1/1 [==============================] - 0s 42ms/step - loss: 0.4495 - accuracy: 0.8929 - val_loss: 2.2453 - val_accuracy: 0.2500\n",
            "Epoch 22/100\n",
            "1/1 [==============================] - 0s 46ms/step - loss: 0.4173 - accuracy: 0.9643 - val_loss: 2.2501 - val_accuracy: 0.2500\n",
            "Epoch 23/100\n",
            "1/1 [==============================] - 0s 46ms/step - loss: 0.3986 - accuracy: 0.9286 - val_loss: 2.2544 - val_accuracy: 0.2500\n",
            "Epoch 24/100\n",
            "1/1 [==============================] - 0s 54ms/step - loss: 0.4034 - accuracy: 0.9286 - val_loss: 2.2586 - val_accuracy: 0.2500\n",
            "Epoch 25/100\n",
            "1/1 [==============================] - 0s 43ms/step - loss: 0.4323 - accuracy: 0.9286 - val_loss: 2.2624 - val_accuracy: 0.2500\n",
            "Epoch 26/100\n",
            "1/1 [==============================] - 0s 43ms/step - loss: 0.4760 - accuracy: 0.8929 - val_loss: 2.2662 - val_accuracy: 0.2500\n",
            "Epoch 27/100\n",
            "1/1 [==============================] - 0s 44ms/step - loss: 0.4415 - accuracy: 0.8571 - val_loss: 2.2692 - val_accuracy: 0.2500\n",
            "Epoch 28/100\n",
            "1/1 [==============================] - 0s 47ms/step - loss: 0.4022 - accuracy: 0.8929 - val_loss: 2.2712 - val_accuracy: 0.2500\n",
            "Epoch 29/100\n",
            "1/1 [==============================] - 0s 44ms/step - loss: 0.5084 - accuracy: 0.8571 - val_loss: 2.2722 - val_accuracy: 0.2500\n",
            "Epoch 30/100\n",
            "1/1 [==============================] - 0s 44ms/step - loss: 0.4783 - accuracy: 0.8571 - val_loss: 2.2744 - val_accuracy: 0.2500\n",
            "Epoch 31/100\n",
            "1/1 [==============================] - 0s 41ms/step - loss: 0.4727 - accuracy: 0.8571 - val_loss: 2.2760 - val_accuracy: 0.2500\n",
            "Epoch 32/100\n",
            "1/1 [==============================] - 0s 44ms/step - loss: 0.4315 - accuracy: 0.8571 - val_loss: 2.2771 - val_accuracy: 0.2500\n",
            "Epoch 33/100\n",
            "1/1 [==============================] - 0s 51ms/step - loss: 0.4915 - accuracy: 0.8214 - val_loss: 2.2795 - val_accuracy: 0.2500\n",
            "Epoch 34/100\n",
            "1/1 [==============================] - 0s 41ms/step - loss: 0.4121 - accuracy: 0.8929 - val_loss: 2.2820 - val_accuracy: 0.2500\n",
            "Epoch 35/100\n",
            "1/1 [==============================] - 0s 49ms/step - loss: 0.4462 - accuracy: 0.9286 - val_loss: 2.2840 - val_accuracy: 0.2500\n",
            "Epoch 36/100\n",
            "1/1 [==============================] - 0s 46ms/step - loss: 0.3563 - accuracy: 0.9643 - val_loss: 2.2857 - val_accuracy: 0.2500\n",
            "Epoch 37/100\n",
            "1/1 [==============================] - 0s 46ms/step - loss: 0.3666 - accuracy: 0.9286 - val_loss: 2.2874 - val_accuracy: 0.2500\n",
            "Epoch 38/100\n",
            "1/1 [==============================] - 0s 35ms/step - loss: 0.4830 - accuracy: 0.8571 - val_loss: 2.2884 - val_accuracy: 0.2500\n",
            "Epoch 39/100\n",
            "1/1 [==============================] - 0s 46ms/step - loss: 0.3447 - accuracy: 0.8929 - val_loss: 2.2888 - val_accuracy: 0.2500\n",
            "Epoch 40/100\n",
            "1/1 [==============================] - 0s 46ms/step - loss: 0.4654 - accuracy: 0.8929 - val_loss: 2.2901 - val_accuracy: 0.2500\n",
            "Epoch 41/100\n",
            "1/1 [==============================] - 0s 40ms/step - loss: 0.4773 - accuracy: 0.8214 - val_loss: 2.2915 - val_accuracy: 0.2500\n",
            "Epoch 42/100\n",
            "1/1 [==============================] - 0s 46ms/step - loss: 0.4362 - accuracy: 0.8571 - val_loss: 2.2928 - val_accuracy: 0.2500\n",
            "Epoch 43/100\n",
            "1/1 [==============================] - 0s 44ms/step - loss: 0.3923 - accuracy: 0.8571 - val_loss: 2.2937 - val_accuracy: 0.2500\n",
            "Epoch 44/100\n",
            "1/1 [==============================] - 0s 42ms/step - loss: 0.4290 - accuracy: 0.8929 - val_loss: 2.2951 - val_accuracy: 0.2500\n",
            "Epoch 45/100\n",
            "1/1 [==============================] - 0s 55ms/step - loss: 0.3659 - accuracy: 0.8929 - val_loss: 2.2969 - val_accuracy: 0.2500\n",
            "Epoch 46/100\n",
            "1/1 [==============================] - 0s 42ms/step - loss: 0.4313 - accuracy: 0.9286 - val_loss: 2.2991 - val_accuracy: 0.2500\n",
            "Epoch 47/100\n",
            "1/1 [==============================] - 0s 47ms/step - loss: 0.4516 - accuracy: 0.8929 - val_loss: 2.3003 - val_accuracy: 0.2500\n",
            "Epoch 48/100\n",
            "1/1 [==============================] - 0s 40ms/step - loss: 0.4324 - accuracy: 0.8929 - val_loss: 2.3006 - val_accuracy: 0.2500\n",
            "Epoch 49/100\n",
            "1/1 [==============================] - 0s 42ms/step - loss: 0.4504 - accuracy: 0.8571 - val_loss: 2.3004 - val_accuracy: 0.2500\n",
            "Epoch 50/100\n",
            "1/1 [==============================] - 0s 49ms/step - loss: 0.4254 - accuracy: 0.8571 - val_loss: 2.3005 - val_accuracy: 0.2500\n",
            "Epoch 51/100\n",
            "1/1 [==============================] - 0s 50ms/step - loss: 0.4344 - accuracy: 0.9643 - val_loss: 2.3014 - val_accuracy: 0.2500\n",
            "Epoch 52/100\n",
            "1/1 [==============================] - 0s 52ms/step - loss: 0.4470 - accuracy: 0.8571 - val_loss: 2.3025 - val_accuracy: 0.2500\n",
            "Epoch 53/100\n",
            "1/1 [==============================] - 0s 50ms/step - loss: 0.4350 - accuracy: 0.8929 - val_loss: 2.3026 - val_accuracy: 0.2500\n",
            "Epoch 54/100\n",
            "1/1 [==============================] - 0s 42ms/step - loss: 0.4718 - accuracy: 0.8214 - val_loss: 2.3043 - val_accuracy: 0.2500\n",
            "Epoch 55/100\n",
            "1/1 [==============================] - 0s 42ms/step - loss: 0.3831 - accuracy: 0.8929 - val_loss: 2.3062 - val_accuracy: 0.2500\n",
            "Epoch 56/100\n",
            "1/1 [==============================] - 0s 45ms/step - loss: 0.4015 - accuracy: 0.8929 - val_loss: 2.3088 - val_accuracy: 0.2500\n",
            "Epoch 57/100\n",
            "1/1 [==============================] - 0s 48ms/step - loss: 0.4097 - accuracy: 0.8571 - val_loss: 2.3117 - val_accuracy: 0.2500\n",
            "Epoch 58/100\n",
            "1/1 [==============================] - 0s 43ms/step - loss: 0.4231 - accuracy: 0.8929 - val_loss: 2.3148 - val_accuracy: 0.2500\n",
            "Epoch 59/100\n",
            "1/1 [==============================] - 0s 39ms/step - loss: 0.4540 - accuracy: 0.8571 - val_loss: 2.3168 - val_accuracy: 0.2500\n",
            "Epoch 60/100\n",
            "1/1 [==============================] - 0s 44ms/step - loss: 0.3374 - accuracy: 0.9286 - val_loss: 2.3188 - val_accuracy: 0.2500\n",
            "Epoch 61/100\n",
            "1/1 [==============================] - 0s 42ms/step - loss: 0.4589 - accuracy: 0.8571 - val_loss: 2.3197 - val_accuracy: 0.2500\n",
            "Epoch 62/100\n",
            "1/1 [==============================] - 0s 42ms/step - loss: 0.3579 - accuracy: 0.9286 - val_loss: 2.3209 - val_accuracy: 0.2500\n",
            "Epoch 63/100\n",
            "1/1 [==============================] - 0s 39ms/step - loss: 0.3473 - accuracy: 0.9286 - val_loss: 2.3223 - val_accuracy: 0.2500\n",
            "Epoch 64/100\n",
            "1/1 [==============================] - 0s 43ms/step - loss: 0.3681 - accuracy: 0.8929 - val_loss: 2.3225 - val_accuracy: 0.2500\n",
            "Epoch 65/100\n",
            "1/1 [==============================] - 0s 54ms/step - loss: 0.3706 - accuracy: 0.8929 - val_loss: 2.3226 - val_accuracy: 0.2500\n",
            "Epoch 66/100\n",
            "1/1 [==============================] - 0s 50ms/step - loss: 0.3595 - accuracy: 0.9286 - val_loss: 2.3247 - val_accuracy: 0.2500\n",
            "Epoch 67/100\n",
            "1/1 [==============================] - 0s 40ms/step - loss: 0.4461 - accuracy: 0.8214 - val_loss: 2.3263 - val_accuracy: 0.2500\n",
            "Epoch 68/100\n",
            "1/1 [==============================] - 0s 51ms/step - loss: 0.3025 - accuracy: 1.0000 - val_loss: 2.3287 - val_accuracy: 0.2500\n",
            "Epoch 69/100\n",
            "1/1 [==============================] - 0s 41ms/step - loss: 0.3920 - accuracy: 0.8929 - val_loss: 2.3316 - val_accuracy: 0.2500\n",
            "Epoch 70/100\n",
            "1/1 [==============================] - 0s 41ms/step - loss: 0.4586 - accuracy: 0.8929 - val_loss: 2.3354 - val_accuracy: 0.2500\n",
            "Epoch 71/100\n",
            "1/1 [==============================] - 0s 41ms/step - loss: 0.4357 - accuracy: 0.8571 - val_loss: 2.3388 - val_accuracy: 0.2500\n",
            "Epoch 72/100\n",
            "1/1 [==============================] - 0s 36ms/step - loss: 0.4472 - accuracy: 0.8929 - val_loss: 2.3417 - val_accuracy: 0.2500\n",
            "Epoch 73/100\n",
            "1/1 [==============================] - 0s 35ms/step - loss: 0.3813 - accuracy: 0.8929 - val_loss: 2.3447 - val_accuracy: 0.2500\n",
            "Epoch 74/100\n",
            "1/1 [==============================] - 0s 37ms/step - loss: 0.4762 - accuracy: 0.8571 - val_loss: 2.3481 - val_accuracy: 0.1250\n",
            "Epoch 75/100\n",
            "1/1 [==============================] - 0s 44ms/step - loss: 0.3815 - accuracy: 0.9286 - val_loss: 2.3510 - val_accuracy: 0.1250\n",
            "Epoch 76/100\n",
            "1/1 [==============================] - 0s 41ms/step - loss: 0.3574 - accuracy: 0.9286 - val_loss: 2.3540 - val_accuracy: 0.1250\n",
            "Epoch 77/100\n",
            "1/1 [==============================] - 0s 44ms/step - loss: 0.3512 - accuracy: 0.9643 - val_loss: 2.3567 - val_accuracy: 0.1250\n",
            "Epoch 78/100\n",
            "1/1 [==============================] - 0s 53ms/step - loss: 0.3950 - accuracy: 0.9286 - val_loss: 2.3595 - val_accuracy: 0.1250\n",
            "Epoch 79/100\n",
            "1/1 [==============================] - 0s 37ms/step - loss: 0.3456 - accuracy: 0.9643 - val_loss: 2.3626 - val_accuracy: 0.1250\n",
            "Epoch 80/100\n",
            "1/1 [==============================] - 0s 43ms/step - loss: 0.3928 - accuracy: 0.8929 - val_loss: 2.3651 - val_accuracy: 0.1250\n",
            "Epoch 81/100\n",
            "1/1 [==============================] - 0s 49ms/step - loss: 0.3260 - accuracy: 0.9286 - val_loss: 2.3668 - val_accuracy: 0.1250\n",
            "Epoch 82/100\n",
            "1/1 [==============================] - 0s 47ms/step - loss: 0.3314 - accuracy: 0.9643 - val_loss: 2.3691 - val_accuracy: 0.1250\n",
            "Epoch 83/100\n",
            "1/1 [==============================] - 0s 47ms/step - loss: 0.4258 - accuracy: 0.8214 - val_loss: 2.3716 - val_accuracy: 0.1250\n",
            "Epoch 84/100\n",
            "1/1 [==============================] - 0s 36ms/step - loss: 0.3378 - accuracy: 0.9643 - val_loss: 2.3736 - val_accuracy: 0.1250\n",
            "Epoch 85/100\n",
            "1/1 [==============================] - 0s 42ms/step - loss: 0.4409 - accuracy: 0.9286 - val_loss: 2.3758 - val_accuracy: 0.1250\n",
            "Epoch 86/100\n",
            "1/1 [==============================] - 0s 42ms/step - loss: 0.4208 - accuracy: 0.8929 - val_loss: 2.3779 - val_accuracy: 0.1250\n",
            "Epoch 87/100\n",
            "1/1 [==============================] - 0s 47ms/step - loss: 0.3904 - accuracy: 0.9643 - val_loss: 2.3799 - val_accuracy: 0.1250\n",
            "Epoch 88/100\n",
            "1/1 [==============================] - 0s 47ms/step - loss: 0.3353 - accuracy: 0.9286 - val_loss: 2.3800 - val_accuracy: 0.1250\n",
            "Epoch 89/100\n",
            "1/1 [==============================] - 0s 45ms/step - loss: 0.3125 - accuracy: 0.9286 - val_loss: 2.3811 - val_accuracy: 0.1250\n",
            "Epoch 90/100\n",
            "1/1 [==============================] - 0s 39ms/step - loss: 0.4110 - accuracy: 0.8929 - val_loss: 2.3818 - val_accuracy: 0.1250\n",
            "Epoch 91/100\n",
            "1/1 [==============================] - 0s 41ms/step - loss: 0.2950 - accuracy: 1.0000 - val_loss: 2.3827 - val_accuracy: 0.1250\n",
            "Epoch 92/100\n",
            "1/1 [==============================] - 0s 43ms/step - loss: 0.3940 - accuracy: 0.8929 - val_loss: 2.3848 - val_accuracy: 0.1250\n",
            "Epoch 93/100\n",
            "1/1 [==============================] - 0s 37ms/step - loss: 0.3824 - accuracy: 0.9643 - val_loss: 2.3868 - val_accuracy: 0.1250\n",
            "Epoch 94/100\n",
            "1/1 [==============================] - 0s 47ms/step - loss: 0.3880 - accuracy: 0.8214 - val_loss: 2.3894 - val_accuracy: 0.1250\n",
            "Epoch 95/100\n",
            "1/1 [==============================] - 0s 43ms/step - loss: 0.3525 - accuracy: 0.9643 - val_loss: 2.3925 - val_accuracy: 0.1250\n",
            "Epoch 96/100\n",
            "1/1 [==============================] - 0s 42ms/step - loss: 0.3085 - accuracy: 1.0000 - val_loss: 2.3962 - val_accuracy: 0.1250\n",
            "Epoch 97/100\n",
            "1/1 [==============================] - 0s 50ms/step - loss: 0.3546 - accuracy: 0.9286 - val_loss: 2.3997 - val_accuracy: 0.1250\n",
            "Epoch 98/100\n",
            "1/1 [==============================] - 0s 46ms/step - loss: 0.3872 - accuracy: 0.9286 - val_loss: 2.4030 - val_accuracy: 0.1250\n",
            "Epoch 99/100\n",
            "1/1 [==============================] - 0s 36ms/step - loss: 0.4935 - accuracy: 0.8571 - val_loss: 2.4036 - val_accuracy: 0.1250\n",
            "Epoch 100/100\n",
            "1/1 [==============================] - 0s 42ms/step - loss: 0.2968 - accuracy: 0.9286 - val_loss: 2.4046 - val_accuracy: 0.1250\n",
            "1/1 [==============================] - 0s 24ms/step - loss: 2.4046 - accuracy: 0.1250\n"
          ]
        }
      ]
    },
    {
      "cell_type": "code",
      "source": [
        ""
      ],
      "metadata": {
        "id": "cH0ro1ezFwDJ"
      },
      "execution_count": null,
      "outputs": []
    }
  ]
}